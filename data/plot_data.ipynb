{
 "cells": [
  {
   "cell_type": "code",
   "id": "initial_id",
   "metadata": {
    "ExecuteTime": {
     "end_time": "2024-09-09T13:14:58.123532Z",
     "start_time": "2024-09-09T13:14:58.120570Z"
    }
   },
   "source": [
    "from jupyter_utils import *\n",
    "from ipywidgets import interact, Dropdown, Select\n"
   ],
   "outputs": [],
   "execution_count": 183
  },
  {
   "cell_type": "code",
   "id": "d4acdf12347f8440",
   "metadata": {
    "ExecuteTime": {
     "end_time": "2024-09-09T13:14:32.740388Z",
     "start_time": "2024-09-09T13:14:32.722515Z"
    }
   },
   "source": [
    "geo = data_dictionary\n",
    "\n",
    "# Create widgets\n",
    "countryW = Select(options=geo.keys(), description='Country:')\n",
    "cityW = Select(description='City:')\n",
    "neighborhoodW = Select(description='Neighborhood:')\n",
    "\n",
    "def update_cityW_options(*args):\n",
    "    \"\"\"Update city dropdown options based on selected country.\"\"\"\n",
    "    selected_country = countryW.value\n",
    "    if selected_country:\n",
    "        cityW.options = geo[selected_country].keys()\n",
    "        cityW.value = None  # Reset city selection\n",
    "        neighborhoodW.options = []  # Reset neighborhood options\n",
    "        neighborhoodW.value = None  # Reset neighborhood selection\n",
    "\n",
    "def update_neighborhoodW_options(*args):\n",
    "    \"\"\"Update neighborhood dropdown options based on selected city.\"\"\"\n",
    "    selected_country = countryW.value\n",
    "    selected_city = cityW.value\n",
    "    if selected_country and selected_city:\n",
    "        neighborhoodW.options = geo[selected_country][selected_city]\n",
    "        neighborhoodW.value = None  # Reset neighborhood selection\n",
    "\n",
    "# Observe changes\n",
    "countryW.observe(update_cityW_options, names='value')\n",
    "cityW.observe(update_neighborhoodW_options, names='value')\n",
    "\n",
    "@interact(country=countryW, city=cityW, neighborhood=neighborhoodW)\n",
    "def print_selection(country, city, neighborhood):\n",
    "    print(f\"Country: {country}, City: {city}, Neighborhood: {neighborhood}\")\n",
    "\n",
    "# Display widgets\n",
    "# display(countryW, cityW, neighborhoodW)"
   ],
   "outputs": [
    {
     "data": {
      "text/plain": [
       "interactive(children=(Select(description='Country:', options=('2024-08-26', '2024-09-01', '2024-09-02', '2024-…"
      ],
      "application/vnd.jupyter.widget-view+json": {
       "version_major": 2,
       "version_minor": 0,
       "model_id": "ceab17f5f43c4a0685c1c1086f78cf23"
      }
     },
     "metadata": {},
     "output_type": "display_data"
    }
   ],
   "execution_count": 182
  },
  {
   "metadata": {},
   "cell_type": "code",
   "outputs": [],
   "execution_count": null,
   "source": "",
   "id": "5303b5e86a8c31d6"
  }
 ],
 "metadata": {
  "kernelspec": {
   "display_name": "Python 3 (ipykernel)",
   "language": "python",
   "name": "python3"
  },
  "language_info": {
   "codemirror_mode": {
    "name": "ipython",
    "version": 3
   },
   "file_extension": ".py",
   "mimetype": "text/x-python",
   "name": "python",
   "nbconvert_exporter": "python",
   "pygments_lexer": "ipython3",
   "version": "3.11.9"
  }
 },
 "nbformat": 4,
 "nbformat_minor": 5
}
