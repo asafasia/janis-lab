{
 "cells": [
  {
   "cell_type": "code",
   "id": "initial_id",
   "metadata": {
    "ExecuteTime": {
     "end_time": "2024-09-09T13:55:54.049070Z",
     "start_time": "2024-09-09T13:55:54.046361Z"
    }
   },
   "source": [
    "from jupyter_utils import *\n",
    "from ipywidgets import interact, Dropdown, Select\n"
   ],
   "outputs": [],
   "execution_count": 238
  },
  {
   "cell_type": "code",
   "id": "d4acdf12347f8440",
   "metadata": {
    "ExecuteTime": {
     "end_time": "2024-09-09T13:55:54.061166Z",
     "start_time": "2024-09-09T13:55:54.053955Z"
    }
   },
   "source": [
    "import numpy as np\n",
    "\n",
    "data = data_dictionary\n",
    "\n",
    "# Create widgets\n",
    "dateW = Select(options=data.keys(), description='date:')\n",
    "expW = Select(description='experiment:')\n",
    "numW = Select(description='num:')\n",
    "\n",
    "\n",
    "def update_cityW_options(*args):\n",
    "    \"\"\"Update city dropdown options based on selected country.\"\"\"\n",
    "    selected_country = dateW.value\n",
    "    if selected_country:\n",
    "        expW.options = data[selected_country].keys()\n",
    "        expW.value = None  # Reset city selection\n",
    "        numW.options = []  # Reset neighborhood options\n",
    "        numW.value = None  # Reset neighborhood selection\n",
    "\n",
    "\n",
    "def update_neighborhoodW_options(*args):\n",
    "    \"\"\"Update neighborhood dropdown options based on selected city.\"\"\"\n",
    "    selected_country = dateW.value\n",
    "    selected_city = expW.value\n",
    "\n",
    "    keyss = data[selected_country][selected_city].keys()\n",
    "    keyss = np.array(list(keyss))\n",
    "    keyss = np.sort(keyss)\n",
    "\n",
    "    if selected_country and selected_city:\n",
    "        numW.options = keyss\n",
    "        numW.value = None  # Reset neighborhood selection\n",
    "\n",
    "\n",
    "# Observe changes\n",
    "dateW.observe(update_cityW_options, names='value')\n",
    "expW.observe(update_neighborhoodW_options, names='value')\n",
    "\n",
    "\n",
    "\n",
    "# Display widgets\n",
    "# display(countryW, cityW, neighborhoodW)"
   ],
   "outputs": [],
   "execution_count": 239
  },
  {
   "metadata": {
    "ExecuteTime": {
     "end_time": "2024-09-09T13:55:54.099115Z",
     "start_time": "2024-09-09T13:55:54.080064Z"
    }
   },
   "cell_type": "code",
   "source": [
    "@interact(country=dateW, city=expW, neighborhood=numW)\n",
    "def print_selection(country, city, neighborhood):\n",
    "    print(f\"date: {country}, City: {city}, Neighborhood: {neighborhood}\")\n",
    "    plotter(data[country][city][neighborhood])\n",
    "    "
   ],
   "id": "5303b5e86a8c31d6",
   "outputs": [
    {
     "data": {
      "text/plain": [
       "interactive(children=(Select(description='date:', options=('2024-08-26', '2024-09-01', '2024-09-02', '2024-09-…"
      ],
      "application/vnd.jupyter.widget-view+json": {
       "version_major": 2,
       "version_minor": 0,
       "model_id": "fbbf0eb3ba984d3ebf7b86bb01088d04"
      }
     },
     "metadata": {},
     "output_type": "display_data"
    }
   ],
   "execution_count": 240
  },
  {
   "metadata": {
    "ExecuteTime": {
     "end_time": "2024-09-09T13:55:54.119401Z",
     "start_time": "2024-09-09T13:55:54.117020Z"
    }
   },
   "cell_type": "code",
   "source": "",
   "id": "948ed6d89006e04e",
   "outputs": [],
   "execution_count": null
  },
  {
   "metadata": {
    "ExecuteTime": {
     "end_time": "2024-09-09T13:55:54.139193Z",
     "start_time": "2024-09-09T13:55:54.137771Z"
    }
   },
   "cell_type": "code",
   "source": "",
   "id": "580e745aebea21a",
   "outputs": [],
   "execution_count": null
  }
 ],
 "metadata": {
  "kernelspec": {
   "display_name": "Python 3 (ipykernel)",
   "language": "python",
   "name": "python3"
  },
  "language_info": {
   "codemirror_mode": {
    "name": "ipython",
    "version": 3
   },
   "file_extension": ".py",
   "mimetype": "text/x-python",
   "name": "python",
   "nbconvert_exporter": "python",
   "pygments_lexer": "ipython3",
   "version": "3.11.9"
  }
 },
 "nbformat": 4,
 "nbformat_minor": 5
}
